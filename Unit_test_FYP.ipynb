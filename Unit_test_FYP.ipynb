{
 "cells": [
  {
   "cell_type": "code",
   "execution_count": 1,
   "id": "0c555bea",
   "metadata": {},
   "outputs": [
    {
     "name": "stdout",
     "output_type": "stream",
     "text": [
      "WARNING:tensorflow:From C:\\Users\\Julie\\anaconda3\\lib\\site-packages\\keras\\src\\losses.py:2976: The name tf.losses.sparse_softmax_cross_entropy is deprecated. Please use tf.compat.v1.losses.sparse_softmax_cross_entropy instead.\n",
      "\n"
     ]
    }
   ],
   "source": [
    "import unittest \n",
    "import pandas as pd \n",
    "from nltk.corpus import stopwords\n",
    "from nltk.tokenize import word_tokenize\n",
    "from nltk.stem import WordNetLemmatizer\n",
    "from keras.preprocessing.text import Tokenizer\n",
    "import contractions\n",
    "from keras.preprocessing.sequence import pad_sequences\n",
    "import re\n",
    "\n",
    "\n",
    "def process_location(location_column): \n",
    "    return location_column.split(',')[0].strip()\n",
    "\n",
    "def preprocessing(job_ads_df, text_columns):\n",
    "    job_df_copy = job_ads_df.copy(deep=True)\n",
    "    stop_words = set(stopwords.words('english'))\n",
    "    lemmatizer = WordNetLemmatizer()\n",
    "\n",
    "    for col in job_df_copy.columns[:-1]:\n",
    "        for index, text in enumerate(job_df_copy[col]):\n",
    "            if col != 'location':\n",
    "                words = text.lower()\n",
    "            else:\n",
    "                words = process_location(text)                 \n",
    "            words = contractions.fix(words)\n",
    "            words = re.sub(r'[^A-Za-z\\s]',' ', words)\n",
    "            \n",
    "            if col in text_columns:\n",
    "                tokens = word_tokenize(words)\n",
    "                processed_words = []\n",
    "                for tk in tokens:\n",
    "                    if tk not in stop_words and len(tk) > 1:  \n",
    "                        processed_words.append(lemmatizer.lemmatize(tk))\n",
    "                processed_text = ' '.join(processed_words)\n",
    "                job_df_copy.at[index, col] = processed_text\n",
    "            else: \n",
    "                job_df_copy.at[index, col] = words\n",
    "\n",
    "    return job_df_copy\n",
    "\n",
    "def preprocess_text(text):\n",
    "    stop_words=set(stopwords.words('english'))\n",
    "    lemmatizer=WordNetLemmatizer()\n",
    "    words=text.lower()\n",
    "    words=contractions.fix(words)\n",
    "    words=re.sub(r'[^A-Za-z\\s]',' ',words)\n",
    "    tokens=word_tokenize(words)\n",
    "    processed_words=[]\n",
    "    for tk in tokens:\n",
    "        if tk not in stop_words and len(tk)>1:\n",
    "            processed_words.append(lemmatizer.lemmatize(tk))\n",
    "    processed_text=' '.join(processed_words)\n",
    "    return processed_text\n",
    "\n"
   ]
  },
  {
   "cell_type": "code",
   "execution_count": 2,
   "id": "c621568b",
   "metadata": {},
   "outputs": [],
   "source": [
    "class TestProcessLocation(unittest.TestCase):\n",
    "    def test_process_location(self): \n",
    "        location_column = 'US, NY, New York'\n",
    "        processed_location = process_location(location_column)\n",
    "        self.assertEqual(processed_location, 'US')"
   ]
  },
  {
   "cell_type": "code",
   "execution_count": 3,
   "id": "e0979594",
   "metadata": {
    "scrolled": false
   },
   "outputs": [],
   "source": [
    "class TestPreprocessing(unittest.TestCase):\n",
    "    def setUp(self):\n",
    "        self.sample_df = pd.DataFrame({\n",
    "            'title': ['Data Scientist', 'Software Engineer'],\n",
    "            'location': ['US, New York,', 'US, IA'],\n",
    "            'department': ['Research', 'Engineering'],\n",
    "            'company_profile': ['Company A is a leading tech firm.', 'Company B specializes in software development.'],\n",
    "            'description': ['Experience with machine learning', 'Experience with software development'],\n",
    "            'requirements': ['Python proficiency required', 'Experience with Java'],\n",
    "            'benefits': ['Flexible working hours', 'Health insurance provided'],\n",
    "            'employment_type': ['Full-time', 'Part-time'],\n",
    "            'required_experience': ['Entry level', 'Mid level'],\n",
    "            'industry': ['Technology', 'Software'],\n",
    "            'function': ['research', 'engineering']\n",
    "        })\n",
    "        self.columns_to_chg = ['title', 'location', 'department', 'company_profile', 'description',\n",
    "                               'requirements', 'benefits', 'employment_type', 'required_experience',\n",
    "                               'industry', 'function']\n",
    "\n",
    "    def test_preprocessing(self):\n",
    "        output_df = preprocessing(self.sample_df, self.columns_to_chg)  \n",
    "        expected_df = pd.DataFrame({\n",
    "            'title': ['data scientist', 'software engineer'],\n",
    "            'location': ['US', 'US'],\n",
    "            'department': ['research', 'engineering'],\n",
    "            'company_profile': ['company leading tech firm', 'company specializes software development'],\n",
    "            'description': ['experience machine learning', 'experience software development'],\n",
    "            'requirements': ['python proficiency required', 'experience java'],\n",
    "            'benefits': ['flexible working hour', 'health insurance provided'],\n",
    "            'employment_type': ['full time', 'part time'],\n",
    "            'required_experience': ['entry level', 'mid level'],\n",
    "            'industry': ['technology', 'software'],\n",
    "            'function': ['research', 'engineering']\n",
    "        })\n",
    "        pd.testing.assert_frame_equal(output_df, expected_df)\n",
    "        "
   ]
  },
  {
   "cell_type": "code",
   "execution_count": 4,
   "id": "80e8ff7e",
   "metadata": {},
   "outputs": [],
   "source": [
    "class TestPreprocessText(unittest.TestCase):\n",
    "    def test_preprocess_text(self):\n",
    "        input_text = \"This is a sample text, this job will offer so much benefit to you. Apply for the opportunity now!\"\n",
    "        expected_output = \"sample text job offer much benefit apply opportunity\"\n",
    "        processed_text = preprocess_text(input_text)\n",
    "        self.assertEqual(processed_text, expected_output)"
   ]
  },
  {
   "cell_type": "code",
   "execution_count": 5,
   "id": "d656177c",
   "metadata": {},
   "outputs": [
    {
     "name": "stderr",
     "output_type": "stream",
     "text": [
      "test_preprocess_text (__main__.TestPreprocessText) ... ok\n",
      "test_preprocessing (__main__.TestPreprocessing) ... ok\n",
      "test_process_location (__main__.TestProcessLocation) ... ok\n",
      "\n",
      "----------------------------------------------------------------------\n",
      "Ran 3 tests in 1.260s\n",
      "\n",
      "OK\n"
     ]
    },
    {
     "data": {
      "text/plain": [
       "<unittest.main.TestProgram at 0x1efdecebbb0>"
      ]
     },
     "execution_count": 5,
     "metadata": {},
     "output_type": "execute_result"
    }
   ],
   "source": [
    "unittest.main(argv=[''], verbosity =2, exit=False)"
   ]
  },
  {
   "cell_type": "code",
   "execution_count": null,
   "id": "34964285",
   "metadata": {},
   "outputs": [],
   "source": []
  }
 ],
 "metadata": {
  "kernelspec": {
   "display_name": "Python 3 (ipykernel)",
   "language": "python",
   "name": "python3"
  },
  "language_info": {
   "codemirror_mode": {
    "name": "ipython",
    "version": 3
   },
   "file_extension": ".py",
   "mimetype": "text/x-python",
   "name": "python",
   "nbconvert_exporter": "python",
   "pygments_lexer": "ipython3",
   "version": "3.10.9"
  }
 },
 "nbformat": 4,
 "nbformat_minor": 5
}
